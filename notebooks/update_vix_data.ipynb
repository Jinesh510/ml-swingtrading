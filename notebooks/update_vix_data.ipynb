{
 "cells": [
  {
   "cell_type": "code",
   "execution_count": 24,
   "id": "32386cad-1390-4766-9e0b-e3a2e9107860",
   "metadata": {},
   "outputs": [],
   "source": [
    "import pandas as pd\n",
    "from datetime import datetime\n",
    "import yfinance as yf"
   ]
  },
  {
   "cell_type": "code",
   "execution_count": 31,
   "id": "d5fb6333-24ee-4e44-9ea6-5a8c66d31540",
   "metadata": {},
   "outputs": [],
   "source": [
    "# Load the file you just downloaded\n",
    "vix_df = pd.read_csv(\"india_vix.csv\", parse_dates=[\"Date\"])"
   ]
  },
  {
   "cell_type": "code",
   "execution_count": 32,
   "id": "f805f1c4-d6ed-401f-945c-118fe2bf12bb",
   "metadata": {},
   "outputs": [
    {
     "data": {
      "text/html": [
       "<div>\n",
       "<style scoped>\n",
       "    .dataframe tbody tr th:only-of-type {\n",
       "        vertical-align: middle;\n",
       "    }\n",
       "\n",
       "    .dataframe tbody tr th {\n",
       "        vertical-align: top;\n",
       "    }\n",
       "\n",
       "    .dataframe thead th {\n",
       "        text-align: right;\n",
       "    }\n",
       "</style>\n",
       "<table border=\"1\" class=\"dataframe\">\n",
       "  <thead>\n",
       "    <tr style=\"text-align: right;\">\n",
       "      <th></th>\n",
       "      <th>Date</th>\n",
       "      <th>Close</th>\n",
       "      <th>Open</th>\n",
       "      <th>High</th>\n",
       "      <th>Low</th>\n",
       "    </tr>\n",
       "  </thead>\n",
       "  <tbody>\n",
       "    <tr>\n",
       "      <th>0</th>\n",
       "      <td>2008-04-01</td>\n",
       "      <td>35.1000</td>\n",
       "      <td>31.2400</td>\n",
       "      <td>38.3800</td>\n",
       "      <td>28.5900</td>\n",
       "    </tr>\n",
       "    <tr>\n",
       "      <th>1</th>\n",
       "      <td>2008-07-01</td>\n",
       "      <td>31.4200</td>\n",
       "      <td>30.9600</td>\n",
       "      <td>56.6400</td>\n",
       "      <td>30.9600</td>\n",
       "    </tr>\n",
       "    <tr>\n",
       "      <th>2</th>\n",
       "      <td>2008-08-01</td>\n",
       "      <td>38.4900</td>\n",
       "      <td>40.2600</td>\n",
       "      <td>41.9300</td>\n",
       "      <td>35.1000</td>\n",
       "    </tr>\n",
       "    <tr>\n",
       "      <th>3</th>\n",
       "      <td>2008-09-01</td>\n",
       "      <td>31.2800</td>\n",
       "      <td>49.7000</td>\n",
       "      <td>49.7000</td>\n",
       "      <td>29.4700</td>\n",
       "    </tr>\n",
       "    <tr>\n",
       "      <th>4</th>\n",
       "      <td>2008-10-01</td>\n",
       "      <td>35.5400</td>\n",
       "      <td>37.1900</td>\n",
       "      <td>37.1900</td>\n",
       "      <td>34.9800</td>\n",
       "    </tr>\n",
       "    <tr>\n",
       "      <th>...</th>\n",
       "      <td>...</td>\n",
       "      <td>...</td>\n",
       "      <td>...</td>\n",
       "      <td>...</td>\n",
       "      <td>...</td>\n",
       "    </tr>\n",
       "    <tr>\n",
       "      <th>4262</th>\n",
       "      <td>2025-05-30</td>\n",
       "      <td>16.0775</td>\n",
       "      <td>16.4200</td>\n",
       "      <td>16.5450</td>\n",
       "      <td>15.2875</td>\n",
       "    </tr>\n",
       "    <tr>\n",
       "      <th>4263</th>\n",
       "      <td>2025-02-06</td>\n",
       "      <td>17.1575</td>\n",
       "      <td>16.0775</td>\n",
       "      <td>17.7275</td>\n",
       "      <td>16.0775</td>\n",
       "    </tr>\n",
       "    <tr>\n",
       "      <th>4264</th>\n",
       "      <td>2025-03-06</td>\n",
       "      <td>16.5550</td>\n",
       "      <td>17.1575</td>\n",
       "      <td>17.7275</td>\n",
       "      <td>16.2575</td>\n",
       "    </tr>\n",
       "    <tr>\n",
       "      <th>4265</th>\n",
       "      <td>2025-04-06</td>\n",
       "      <td>15.7450</td>\n",
       "      <td>16.5550</td>\n",
       "      <td>17.0600</td>\n",
       "      <td>15.6300</td>\n",
       "    </tr>\n",
       "    <tr>\n",
       "      <th>4266</th>\n",
       "      <td>2025-05-06</td>\n",
       "      <td>15.2850</td>\n",
       "      <td>15.1500</td>\n",
       "      <td>15.9200</td>\n",
       "      <td>14.9825</td>\n",
       "    </tr>\n",
       "  </tbody>\n",
       "</table>\n",
       "<p>4267 rows × 5 columns</p>\n",
       "</div>"
      ],
      "text/plain": [
       "           Date    Close     Open     High      Low\n",
       "0    2008-04-01  35.1000  31.2400  38.3800  28.5900\n",
       "1    2008-07-01  31.4200  30.9600  56.6400  30.9600\n",
       "2    2008-08-01  38.4900  40.2600  41.9300  35.1000\n",
       "3    2008-09-01  31.2800  49.7000  49.7000  29.4700\n",
       "4    2008-10-01  35.5400  37.1900  37.1900  34.9800\n",
       "...         ...      ...      ...      ...      ...\n",
       "4262 2025-05-30  16.0775  16.4200  16.5450  15.2875\n",
       "4263 2025-02-06  17.1575  16.0775  17.7275  16.0775\n",
       "4264 2025-03-06  16.5550  17.1575  17.7275  16.2575\n",
       "4265 2025-04-06  15.7450  16.5550  17.0600  15.6300\n",
       "4266 2025-05-06  15.2850  15.1500  15.9200  14.9825\n",
       "\n",
       "[4267 rows x 5 columns]"
      ]
     },
     "execution_count": 32,
     "metadata": {},
     "output_type": "execute_result"
    }
   ],
   "source": [
    "vix_df"
   ]
  },
  {
   "cell_type": "code",
   "execution_count": 33,
   "id": "615f0937-ede2-462e-9f13-eaed9da34cf5",
   "metadata": {},
   "outputs": [],
   "source": [
    "vix_df[\"Date\"] = pd.to_datetime(vix_df[\"Date\"], dayfirst=True)"
   ]
  },
  {
   "cell_type": "code",
   "execution_count": 34,
   "id": "b60567d3-9004-4085-9a3c-313a5905a03c",
   "metadata": {},
   "outputs": [],
   "source": [
    "vix_df = vix_df.sort_values(\"Date\").drop_duplicates(subset=\"Date\")"
   ]
  },
  {
   "cell_type": "code",
   "execution_count": 35,
   "id": "c4f1a381-31f5-4965-aed4-5290fdea67a1",
   "metadata": {
    "scrolled": true
   },
   "outputs": [
    {
     "data": {
      "text/html": [
       "<div>\n",
       "<style scoped>\n",
       "    .dataframe tbody tr th:only-of-type {\n",
       "        vertical-align: middle;\n",
       "    }\n",
       "\n",
       "    .dataframe tbody tr th {\n",
       "        vertical-align: top;\n",
       "    }\n",
       "\n",
       "    .dataframe thead th {\n",
       "        text-align: right;\n",
       "    }\n",
       "</style>\n",
       "<table border=\"1\" class=\"dataframe\">\n",
       "  <thead>\n",
       "    <tr style=\"text-align: right;\">\n",
       "      <th></th>\n",
       "      <th>Date</th>\n",
       "      <th>Close</th>\n",
       "      <th>Open</th>\n",
       "      <th>High</th>\n",
       "      <th>Low</th>\n",
       "    </tr>\n",
       "  </thead>\n",
       "  <tbody>\n",
       "    <tr>\n",
       "      <th>0</th>\n",
       "      <td>2008-03-04</td>\n",
       "      <td>38.0800</td>\n",
       "      <td>38.0800</td>\n",
       "      <td>51.0700</td>\n",
       "      <td>30.5900</td>\n",
       "    </tr>\n",
       "    <tr>\n",
       "      <th>1</th>\n",
       "      <td>2008-03-05</td>\n",
       "      <td>35.5100</td>\n",
       "      <td>38.0800</td>\n",
       "      <td>38.7600</td>\n",
       "      <td>27.9500</td>\n",
       "    </tr>\n",
       "    <tr>\n",
       "      <th>2</th>\n",
       "      <td>2008-03-07</td>\n",
       "      <td>35.2000</td>\n",
       "      <td>36.9500</td>\n",
       "      <td>39.3400</td>\n",
       "      <td>27.0500</td>\n",
       "    </tr>\n",
       "    <tr>\n",
       "      <th>3</th>\n",
       "      <td>2008-03-10</td>\n",
       "      <td>32.5800</td>\n",
       "      <td>25.3300</td>\n",
       "      <td>47.9500</td>\n",
       "      <td>25.3300</td>\n",
       "    </tr>\n",
       "    <tr>\n",
       "      <th>4</th>\n",
       "      <td>2008-03-11</td>\n",
       "      <td>32.6900</td>\n",
       "      <td>30.7200</td>\n",
       "      <td>37.5400</td>\n",
       "      <td>29.7500</td>\n",
       "    </tr>\n",
       "    <tr>\n",
       "      <th>...</th>\n",
       "      <td>...</td>\n",
       "      <td>...</td>\n",
       "      <td>...</td>\n",
       "      <td>...</td>\n",
       "      <td>...</td>\n",
       "    </tr>\n",
       "    <tr>\n",
       "      <th>4249</th>\n",
       "      <td>2025-11-03</td>\n",
       "      <td>14.0725</td>\n",
       "      <td>13.9850</td>\n",
       "      <td>14.5025</td>\n",
       "      <td>13.6750</td>\n",
       "    </tr>\n",
       "    <tr>\n",
       "      <th>4250</th>\n",
       "      <td>2025-11-04</td>\n",
       "      <td>20.1075</td>\n",
       "      <td>21.4300</td>\n",
       "      <td>21.4300</td>\n",
       "      <td>18.8550</td>\n",
       "    </tr>\n",
       "    <tr>\n",
       "      <th>4251</th>\n",
       "      <td>2025-12-02</td>\n",
       "      <td>14.8950</td>\n",
       "      <td>14.8700</td>\n",
       "      <td>15.6225</td>\n",
       "      <td>14.6075</td>\n",
       "    </tr>\n",
       "    <tr>\n",
       "      <th>4252</th>\n",
       "      <td>2025-12-03</td>\n",
       "      <td>13.6925</td>\n",
       "      <td>14.0725</td>\n",
       "      <td>14.3725</td>\n",
       "      <td>13.6350</td>\n",
       "    </tr>\n",
       "    <tr>\n",
       "      <th>4253</th>\n",
       "      <td>2025-12-05</td>\n",
       "      <td>18.3925</td>\n",
       "      <td>21.6325</td>\n",
       "      <td>21.6325</td>\n",
       "      <td>17.2075</td>\n",
       "    </tr>\n",
       "  </tbody>\n",
       "</table>\n",
       "<p>4254 rows × 5 columns</p>\n",
       "</div>"
      ],
      "text/plain": [
       "           Date    Close     Open     High      Low\n",
       "0    2008-03-04  38.0800  38.0800  51.0700  30.5900\n",
       "1    2008-03-05  35.5100  38.0800  38.7600  27.9500\n",
       "2    2008-03-07  35.2000  36.9500  39.3400  27.0500\n",
       "3    2008-03-10  32.5800  25.3300  47.9500  25.3300\n",
       "4    2008-03-11  32.6900  30.7200  37.5400  29.7500\n",
       "...         ...      ...      ...      ...      ...\n",
       "4249 2025-11-03  14.0725  13.9850  14.5025  13.6750\n",
       "4250 2025-11-04  20.1075  21.4300  21.4300  18.8550\n",
       "4251 2025-12-02  14.8950  14.8700  15.6225  14.6075\n",
       "4252 2025-12-03  13.6925  14.0725  14.3725  13.6350\n",
       "4253 2025-12-05  18.3925  21.6325  21.6325  17.2075\n",
       "\n",
       "[4254 rows x 5 columns]"
      ]
     },
     "execution_count": 35,
     "metadata": {},
     "output_type": "execute_result"
    }
   ],
   "source": [
    "vix_df.reset_index(drop=True)"
   ]
  },
  {
   "cell_type": "code",
   "execution_count": 36,
   "id": "aca415ed-e1a5-4513-b27e-96bc1656cf59",
   "metadata": {},
   "outputs": [],
   "source": [
    "vix_df = vix_df[[\"Date\", \"Close\"]].rename(columns={\"Close\": \"vix\"})"
   ]
  },
  {
   "cell_type": "code",
   "execution_count": 37,
   "id": "15486b48-9417-4b74-96e3-bec86b0aac85",
   "metadata": {},
   "outputs": [
    {
     "name": "stdout",
     "output_type": "stream",
     "text": [
      "Last date in CSV: 2025-12-05 00:00:00\n"
     ]
    }
   ],
   "source": [
    "# Check last date\n",
    "last_date = vix_df[\"Date\"].max()\n",
    "print(\"Last date in CSV:\", last_date)"
   ]
  },
  {
   "cell_type": "code",
   "execution_count": 11,
   "id": "7829ee5e-9bbb-414b-9491-fed03ba905a4",
   "metadata": {},
   "outputs": [],
   "source": [
    "# Start date = day after last_date\n",
    "start_date = (last_date + pd.Timedelta(days=1)).strftime('%Y-%m-%d')\n"
   ]
  },
  {
   "cell_type": "code",
   "execution_count": 12,
   "id": "5e63473a-0ee2-4fa5-af8c-f4b67478a7c6",
   "metadata": {},
   "outputs": [],
   "source": [
    "today = pd.Timestamp.today().strftime('%Y-%m-%d')"
   ]
  },
  {
   "cell_type": "code",
   "execution_count": 16,
   "id": "4ed28819-c8e5-4f6a-b73a-040136477b68",
   "metadata": {},
   "outputs": [
    {
     "name": "stderr",
     "output_type": "stream",
     "text": [
      "\n",
      "1 Failed download:\n",
      "['^INDIAVIX']: YFPricesMissingError('possibly delisted; no price data found  (1d 2024-08-29 -> 2025-04-16)')\n"
     ]
    }
   ],
   "source": [
    "# Fetch new data\n",
    "# new_vix = yf.download(\"^INDIAVIX\", start=start_date, end=today, progress=False)\n",
    "new_vix = yf.download(\"^INDIAVIX\", start=\"2024-08-29\", end=\"2025-04-16\", progress=False)"
   ]
  },
  {
   "cell_type": "code",
   "execution_count": null,
   "id": "16afed6e-b33c-4a6e-b198-9b45a7b8784f",
   "metadata": {},
   "outputs": [],
   "source": []
  }
 ],
 "metadata": {
  "kernelspec": {
   "display_name": "Python (venv)",
   "language": "python",
   "name": "venv"
  },
  "language_info": {
   "codemirror_mode": {
    "name": "ipython",
    "version": 3
   },
   "file_extension": ".py",
   "mimetype": "text/x-python",
   "name": "python",
   "nbconvert_exporter": "python",
   "pygments_lexer": "ipython3",
   "version": "3.7.1"
  }
 },
 "nbformat": 4,
 "nbformat_minor": 5
}
